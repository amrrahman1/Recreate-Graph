{
  "nbformat": 4,
  "nbformat_minor": 0,
  "metadata": {
    "colab": {
      "name": "Re create Graph.ipynb",
      "provenance": [],
      "authorship_tag": "ABX9TyNE9LfmEYvzrGDa0hy8ZLEb",
      "include_colab_link": true
    },
    "kernelspec": {
      "name": "python3",
      "display_name": "Python 3"
    },
    "language_info": {
      "name": "python"
    }
  },
  "cells": [
    {
      "cell_type": "markdown",
      "metadata": {
        "id": "view-in-github",
        "colab_type": "text"
      },
      "source": [
        "<a href=\"https://colab.research.google.com/github/amrrahman1/Recreate-Graph/blob/main/Re_create_Graph.ipynb\" target=\"_parent\"><img src=\"https://colab.research.google.com/assets/colab-badge.svg\" alt=\"Open In Colab\"/></a>"
      ]
    },
    {
      "cell_type": "code",
      "metadata": {
        "id": "QEDTcCfEGDQI"
      },
      "source": [
        "from google.colab import drive"
      ],
      "execution_count": 25,
      "outputs": []
    },
    {
      "cell_type": "code",
      "metadata": {
        "colab": {
          "base_uri": "https://localhost:8080/"
        },
        "id": "lBgq43PGGHBD",
        "outputId": "bf139009-dd33-4f7d-83ab-af748bc2a5aa"
      },
      "source": [
        "drive.mount('/content/drive')"
      ],
      "execution_count": 26,
      "outputs": [
        {
          "output_type": "stream",
          "name": "stdout",
          "text": [
            "Drive already mounted at /content/drive; to attempt to forcibly remount, call drive.mount(\"/content/drive\", force_remount=True).\n"
          ]
        }
      ]
    },
    {
      "cell_type": "code",
      "metadata": {
        "id": "Rh8TUPkDGy8J"
      },
      "source": [
        "import matplotlib.pyplot as plt\n",
        "import seaborn as sns\n",
        "import pandas as pd\n",
        "import numpy as np"
      ],
      "execution_count": 27,
      "outputs": []
    },
    {
      "cell_type": "code",
      "metadata": {
        "id": "9kWA_sofGQlf"
      },
      "source": [
        "filename = '/content/drive/MyDrive/mortgages.csv'"
      ],
      "execution_count": 28,
      "outputs": []
    },
    {
      "cell_type": "code",
      "metadata": {
        "id": "T67PtVKBGpal"
      },
      "source": [
        "df = pd.read_csv(filename)"
      ],
      "execution_count": 29,
      "outputs": []
    },
    {
      "cell_type": "code",
      "metadata": {
        "colab": {
          "base_uri": "https://localhost:8080/",
          "height": 49
        },
        "id": "_VTDbSbwHHAT",
        "outputId": "8ef6e7e7-59f3-4bb0-bcf7-ffa8dafd950d"
      },
      "source": [
        "df.head(0)"
      ],
      "execution_count": 34,
      "outputs": [
        {
          "output_type": "execute_result",
          "data": {
            "text/html": [
              "<div>\n",
              "<style scoped>\n",
              "    .dataframe tbody tr th:only-of-type {\n",
              "        vertical-align: middle;\n",
              "    }\n",
              "\n",
              "    .dataframe tbody tr th {\n",
              "        vertical-align: top;\n",
              "    }\n",
              "\n",
              "    .dataframe thead th {\n",
              "        text-align: right;\n",
              "    }\n",
              "</style>\n",
              "<table border=\"1\" class=\"dataframe\">\n",
              "  <thead>\n",
              "    <tr style=\"text-align: right;\">\n",
              "      <th></th>\n",
              "      <th>Month</th>\n",
              "      <th>Starting Balance</th>\n",
              "      <th>Repayment</th>\n",
              "      <th>Interest Paid</th>\n",
              "      <th>Principal Paid</th>\n",
              "      <th>New Balance</th>\n",
              "      <th>Mortgage Name</th>\n",
              "      <th>Interest Rate</th>\n",
              "    </tr>\n",
              "  </thead>\n",
              "  <tbody>\n",
              "  </tbody>\n",
              "</table>\n",
              "</div>"
            ],
            "text/plain": [
              "Empty DataFrame\n",
              "Columns: [Month, Starting Balance, Repayment, Interest Paid, Principal Paid, New Balance, Mortgage Name, Interest Rate]\n",
              "Index: []"
            ]
          },
          "metadata": {},
          "execution_count": 34
        }
      ]
    },
    {
      "cell_type": "code",
      "metadata": {
        "colab": {
          "base_uri": "https://localhost:8080/"
        },
        "id": "_dSbwuwMLefN",
        "outputId": "c3869774-8a2d-4d11-dc04-fe0720db75d1"
      },
      "source": [
        "df['Interest Paid'].isnull().sum()"
      ],
      "execution_count": 35,
      "outputs": [
        {
          "output_type": "execute_result",
          "data": {
            "text/plain": [
              "0"
            ]
          },
          "metadata": {},
          "execution_count": 35
        }
      ]
    },
    {
      "cell_type": "code",
      "metadata": {
        "colab": {
          "base_uri": "https://localhost:8080/"
        },
        "id": "306UhY80GuK5",
        "outputId": "f4905011-f312-40de-8eab-d0879381cffc"
      },
      "source": [
        "#1. Create a filter so the Mortgage Name is '30 Year'.  Use the len() to find how many rows correspond to 30 years.\n",
        "year_filter = df.loc[df['Mortgage Name'] == '30 Year']\n",
        "len(year_filter)"
      ],
      "execution_count": null,
      "outputs": [
        {
          "output_type": "execute_result",
          "data": {
            "text/plain": [
              "720"
            ]
          },
          "metadata": {},
          "execution_count": 20
        }
      ]
    },
    {
      "cell_type": "code",
      "metadata": {
        "colab": {
          "base_uri": "https://localhost:8080/",
          "height": 419
        },
        "id": "EozDUr7UHSDC",
        "outputId": "18e20a50-a73e-4e4a-a86f-831c93c9d159"
      },
      "source": [
        "#2. Create a filter for an interest rate of 3% (notice how it is written in the data!) \n",
        "three_percent = df.loc[df['Interest Rate']==0.03]\n",
        "three_percent"
      ],
      "execution_count": null,
      "outputs": [
        {
          "output_type": "execute_result",
          "data": {
            "text/html": [
              "<div>\n",
              "<style scoped>\n",
              "    .dataframe tbody tr th:only-of-type {\n",
              "        vertical-align: middle;\n",
              "    }\n",
              "\n",
              "    .dataframe tbody tr th {\n",
              "        vertical-align: top;\n",
              "    }\n",
              "\n",
              "    .dataframe thead th {\n",
              "        text-align: right;\n",
              "    }\n",
              "</style>\n",
              "<table border=\"1\" class=\"dataframe\">\n",
              "  <thead>\n",
              "    <tr style=\"text-align: right;\">\n",
              "      <th></th>\n",
              "      <th>Month</th>\n",
              "      <th>Starting Balance</th>\n",
              "      <th>Repayment</th>\n",
              "      <th>Interest Paid</th>\n",
              "      <th>Principal Paid</th>\n",
              "      <th>New Balance</th>\n",
              "      <th>Mortgage Name</th>\n",
              "      <th>Interest Rate</th>\n",
              "    </tr>\n",
              "  </thead>\n",
              "  <tbody>\n",
              "    <tr>\n",
              "      <th>0</th>\n",
              "      <td>1</td>\n",
              "      <td>400000.00</td>\n",
              "      <td>1686.42</td>\n",
              "      <td>1000.00</td>\n",
              "      <td>686.42</td>\n",
              "      <td>399313.58</td>\n",
              "      <td>30 Year</td>\n",
              "      <td>0.03</td>\n",
              "    </tr>\n",
              "    <tr>\n",
              "      <th>1</th>\n",
              "      <td>2</td>\n",
              "      <td>399313.58</td>\n",
              "      <td>1686.42</td>\n",
              "      <td>998.28</td>\n",
              "      <td>688.14</td>\n",
              "      <td>398625.44</td>\n",
              "      <td>30 Year</td>\n",
              "      <td>0.03</td>\n",
              "    </tr>\n",
              "    <tr>\n",
              "      <th>2</th>\n",
              "      <td>3</td>\n",
              "      <td>398625.44</td>\n",
              "      <td>1686.42</td>\n",
              "      <td>996.56</td>\n",
              "      <td>689.86</td>\n",
              "      <td>397935.58</td>\n",
              "      <td>30 Year</td>\n",
              "      <td>0.03</td>\n",
              "    </tr>\n",
              "    <tr>\n",
              "      <th>3</th>\n",
              "      <td>4</td>\n",
              "      <td>397935.58</td>\n",
              "      <td>1686.42</td>\n",
              "      <td>994.83</td>\n",
              "      <td>691.59</td>\n",
              "      <td>397243.99</td>\n",
              "      <td>30 Year</td>\n",
              "      <td>0.03</td>\n",
              "    </tr>\n",
              "    <tr>\n",
              "      <th>4</th>\n",
              "      <td>5</td>\n",
              "      <td>397243.99</td>\n",
              "      <td>1686.42</td>\n",
              "      <td>993.10</td>\n",
              "      <td>693.32</td>\n",
              "      <td>396550.67</td>\n",
              "      <td>30 Year</td>\n",
              "      <td>0.03</td>\n",
              "    </tr>\n",
              "    <tr>\n",
              "      <th>...</th>\n",
              "      <td>...</td>\n",
              "      <td>...</td>\n",
              "      <td>...</td>\n",
              "      <td>...</td>\n",
              "      <td>...</td>\n",
              "      <td>...</td>\n",
              "      <td>...</td>\n",
              "      <td>...</td>\n",
              "    </tr>\n",
              "    <tr>\n",
              "      <th>895</th>\n",
              "      <td>176</td>\n",
              "      <td>13706.74</td>\n",
              "      <td>2762.33</td>\n",
              "      <td>34.26</td>\n",
              "      <td>2728.07</td>\n",
              "      <td>10978.67</td>\n",
              "      <td>15 Year</td>\n",
              "      <td>0.03</td>\n",
              "    </tr>\n",
              "    <tr>\n",
              "      <th>896</th>\n",
              "      <td>177</td>\n",
              "      <td>10978.67</td>\n",
              "      <td>2762.33</td>\n",
              "      <td>27.44</td>\n",
              "      <td>2734.89</td>\n",
              "      <td>8243.78</td>\n",
              "      <td>15 Year</td>\n",
              "      <td>0.03</td>\n",
              "    </tr>\n",
              "    <tr>\n",
              "      <th>897</th>\n",
              "      <td>178</td>\n",
              "      <td>8243.78</td>\n",
              "      <td>2762.33</td>\n",
              "      <td>20.60</td>\n",
              "      <td>2741.73</td>\n",
              "      <td>5502.05</td>\n",
              "      <td>15 Year</td>\n",
              "      <td>0.03</td>\n",
              "    </tr>\n",
              "    <tr>\n",
              "      <th>898</th>\n",
              "      <td>179</td>\n",
              "      <td>5502.05</td>\n",
              "      <td>2762.33</td>\n",
              "      <td>13.75</td>\n",
              "      <td>2748.58</td>\n",
              "      <td>2753.47</td>\n",
              "      <td>15 Year</td>\n",
              "      <td>0.03</td>\n",
              "    </tr>\n",
              "    <tr>\n",
              "      <th>899</th>\n",
              "      <td>180</td>\n",
              "      <td>2753.47</td>\n",
              "      <td>2762.33</td>\n",
              "      <td>6.88</td>\n",
              "      <td>2755.45</td>\n",
              "      <td>-1.98</td>\n",
              "      <td>15 Year</td>\n",
              "      <td>0.03</td>\n",
              "    </tr>\n",
              "  </tbody>\n",
              "</table>\n",
              "<p>540 rows × 8 columns</p>\n",
              "</div>"
            ],
            "text/plain": [
              "     Month  Starting Balance  ...  Mortgage Name  Interest Rate\n",
              "0        1         400000.00  ...        30 Year           0.03\n",
              "1        2         399313.58  ...        30 Year           0.03\n",
              "2        3         398625.44  ...        30 Year           0.03\n",
              "3        4         397935.58  ...        30 Year           0.03\n",
              "4        5         397243.99  ...        30 Year           0.03\n",
              "..     ...               ...  ...            ...            ...\n",
              "895    176          13706.74  ...        15 Year           0.03\n",
              "896    177          10978.67  ...        15 Year           0.03\n",
              "897    178           8243.78  ...        15 Year           0.03\n",
              "898    179           5502.05  ...        15 Year           0.03\n",
              "899    180           2753.47  ...        15 Year           0.03\n",
              "\n",
              "[540 rows x 8 columns]"
            ]
          },
          "metadata": {},
          "execution_count": 21
        }
      ]
    },
    {
      "cell_type": "code",
      "metadata": {
        "colab": {
          "base_uri": "https://localhost:8080/",
          "height": 419
        },
        "id": "WpBXMBb1Jx7s",
        "outputId": "d04821b2-1308-4a38-abc0-9318fdded825"
      },
      "source": [
        "#3. Define a new dataframe based on both the year and the interest filters you have created.  \n",
        "new_df = df[(df['Mortgage Name'] == '30 Year') & (df['Interest Rate']==0.03)]\n",
        "new_df"
      ],
      "execution_count": 64,
      "outputs": [
        {
          "output_type": "execute_result",
          "data": {
            "text/html": [
              "<div>\n",
              "<style scoped>\n",
              "    .dataframe tbody tr th:only-of-type {\n",
              "        vertical-align: middle;\n",
              "    }\n",
              "\n",
              "    .dataframe tbody tr th {\n",
              "        vertical-align: top;\n",
              "    }\n",
              "\n",
              "    .dataframe thead th {\n",
              "        text-align: right;\n",
              "    }\n",
              "</style>\n",
              "<table border=\"1\" class=\"dataframe\">\n",
              "  <thead>\n",
              "    <tr style=\"text-align: right;\">\n",
              "      <th></th>\n",
              "      <th>Month</th>\n",
              "      <th>Starting Balance</th>\n",
              "      <th>Repayment</th>\n",
              "      <th>Interest Paid</th>\n",
              "      <th>Principal Paid</th>\n",
              "      <th>New Balance</th>\n",
              "      <th>Mortgage Name</th>\n",
              "      <th>Interest Rate</th>\n",
              "    </tr>\n",
              "  </thead>\n",
              "  <tbody>\n",
              "    <tr>\n",
              "      <th>0</th>\n",
              "      <td>1</td>\n",
              "      <td>400000.00</td>\n",
              "      <td>1686.42</td>\n",
              "      <td>1000.00</td>\n",
              "      <td>686.42</td>\n",
              "      <td>399313.58</td>\n",
              "      <td>30 Year</td>\n",
              "      <td>0.03</td>\n",
              "    </tr>\n",
              "    <tr>\n",
              "      <th>1</th>\n",
              "      <td>2</td>\n",
              "      <td>399313.58</td>\n",
              "      <td>1686.42</td>\n",
              "      <td>998.28</td>\n",
              "      <td>688.14</td>\n",
              "      <td>398625.44</td>\n",
              "      <td>30 Year</td>\n",
              "      <td>0.03</td>\n",
              "    </tr>\n",
              "    <tr>\n",
              "      <th>2</th>\n",
              "      <td>3</td>\n",
              "      <td>398625.44</td>\n",
              "      <td>1686.42</td>\n",
              "      <td>996.56</td>\n",
              "      <td>689.86</td>\n",
              "      <td>397935.58</td>\n",
              "      <td>30 Year</td>\n",
              "      <td>0.03</td>\n",
              "    </tr>\n",
              "    <tr>\n",
              "      <th>3</th>\n",
              "      <td>4</td>\n",
              "      <td>397935.58</td>\n",
              "      <td>1686.42</td>\n",
              "      <td>994.83</td>\n",
              "      <td>691.59</td>\n",
              "      <td>397243.99</td>\n",
              "      <td>30 Year</td>\n",
              "      <td>0.03</td>\n",
              "    </tr>\n",
              "    <tr>\n",
              "      <th>4</th>\n",
              "      <td>5</td>\n",
              "      <td>397243.99</td>\n",
              "      <td>1686.42</td>\n",
              "      <td>993.10</td>\n",
              "      <td>693.32</td>\n",
              "      <td>396550.67</td>\n",
              "      <td>30 Year</td>\n",
              "      <td>0.03</td>\n",
              "    </tr>\n",
              "    <tr>\n",
              "      <th>...</th>\n",
              "      <td>...</td>\n",
              "      <td>...</td>\n",
              "      <td>...</td>\n",
              "      <td>...</td>\n",
              "      <td>...</td>\n",
              "      <td>...</td>\n",
              "      <td>...</td>\n",
              "      <td>...</td>\n",
              "    </tr>\n",
              "    <tr>\n",
              "      <th>355</th>\n",
              "      <td>356</td>\n",
              "      <td>8364.12</td>\n",
              "      <td>1686.42</td>\n",
              "      <td>20.91</td>\n",
              "      <td>1665.51</td>\n",
              "      <td>6698.61</td>\n",
              "      <td>30 Year</td>\n",
              "      <td>0.03</td>\n",
              "    </tr>\n",
              "    <tr>\n",
              "      <th>356</th>\n",
              "      <td>357</td>\n",
              "      <td>6698.61</td>\n",
              "      <td>1686.42</td>\n",
              "      <td>16.74</td>\n",
              "      <td>1669.68</td>\n",
              "      <td>5028.93</td>\n",
              "      <td>30 Year</td>\n",
              "      <td>0.03</td>\n",
              "    </tr>\n",
              "    <tr>\n",
              "      <th>357</th>\n",
              "      <td>358</td>\n",
              "      <td>5028.93</td>\n",
              "      <td>1686.42</td>\n",
              "      <td>12.57</td>\n",
              "      <td>1673.85</td>\n",
              "      <td>3355.08</td>\n",
              "      <td>30 Year</td>\n",
              "      <td>0.03</td>\n",
              "    </tr>\n",
              "    <tr>\n",
              "      <th>358</th>\n",
              "      <td>359</td>\n",
              "      <td>3355.08</td>\n",
              "      <td>1686.42</td>\n",
              "      <td>8.38</td>\n",
              "      <td>1678.04</td>\n",
              "      <td>1677.04</td>\n",
              "      <td>30 Year</td>\n",
              "      <td>0.03</td>\n",
              "    </tr>\n",
              "    <tr>\n",
              "      <th>359</th>\n",
              "      <td>360</td>\n",
              "      <td>1677.04</td>\n",
              "      <td>1686.42</td>\n",
              "      <td>4.19</td>\n",
              "      <td>1682.23</td>\n",
              "      <td>-5.19</td>\n",
              "      <td>30 Year</td>\n",
              "      <td>0.03</td>\n",
              "    </tr>\n",
              "  </tbody>\n",
              "</table>\n",
              "<p>360 rows × 8 columns</p>\n",
              "</div>"
            ],
            "text/plain": [
              "     Month  Starting Balance  ...  Mortgage Name  Interest Rate\n",
              "0        1         400000.00  ...        30 Year           0.03\n",
              "1        2         399313.58  ...        30 Year           0.03\n",
              "2        3         398625.44  ...        30 Year           0.03\n",
              "3        4         397935.58  ...        30 Year           0.03\n",
              "4        5         397243.99  ...        30 Year           0.03\n",
              "..     ...               ...  ...            ...            ...\n",
              "355    356           8364.12  ...        30 Year           0.03\n",
              "356    357           6698.61  ...        30 Year           0.03\n",
              "357    358           5028.93  ...        30 Year           0.03\n",
              "358    359           3355.08  ...        30 Year           0.03\n",
              "359    360           1677.04  ...        30 Year           0.03\n",
              "\n",
              "[360 rows x 8 columns]"
            ]
          },
          "metadata": {},
          "execution_count": 64
        }
      ]
    },
    {
      "cell_type": "code",
      "metadata": {
        "colab": {
          "base_uri": "https://localhost:8080/",
          "height": 419
        },
        "id": "afMW8Ia9KJ_H",
        "outputId": "23d5c1d5-0d24-4a75-9964-cd0edfbbda90"
      },
      "source": [
        "#4. We have a choice for the 5% interest rate.  We can just create another filter where df.['Interest Rate'] == .05 \n",
        "five_percent = df.loc[df['Interest Rate']== 0.05]\n",
        "five_percent"
      ],
      "execution_count": 65,
      "outputs": [
        {
          "output_type": "execute_result",
          "data": {
            "text/html": [
              "<div>\n",
              "<style scoped>\n",
              "    .dataframe tbody tr th:only-of-type {\n",
              "        vertical-align: middle;\n",
              "    }\n",
              "\n",
              "    .dataframe tbody tr th {\n",
              "        vertical-align: top;\n",
              "    }\n",
              "\n",
              "    .dataframe thead th {\n",
              "        text-align: right;\n",
              "    }\n",
              "</style>\n",
              "<table border=\"1\" class=\"dataframe\">\n",
              "  <thead>\n",
              "    <tr style=\"text-align: right;\">\n",
              "      <th></th>\n",
              "      <th>Month</th>\n",
              "      <th>Starting Balance</th>\n",
              "      <th>Repayment</th>\n",
              "      <th>Interest Paid</th>\n",
              "      <th>Principal Paid</th>\n",
              "      <th>New Balance</th>\n",
              "      <th>Mortgage Name</th>\n",
              "      <th>Interest Rate</th>\n",
              "    </tr>\n",
              "  </thead>\n",
              "  <tbody>\n",
              "    <tr>\n",
              "      <th>360</th>\n",
              "      <td>1</td>\n",
              "      <td>400000.00</td>\n",
              "      <td>2147.29</td>\n",
              "      <td>1666.66</td>\n",
              "      <td>480.63</td>\n",
              "      <td>399519.37</td>\n",
              "      <td>30 Year</td>\n",
              "      <td>0.05</td>\n",
              "    </tr>\n",
              "    <tr>\n",
              "      <th>361</th>\n",
              "      <td>2</td>\n",
              "      <td>399519.37</td>\n",
              "      <td>2147.29</td>\n",
              "      <td>1664.66</td>\n",
              "      <td>482.63</td>\n",
              "      <td>399036.74</td>\n",
              "      <td>30 Year</td>\n",
              "      <td>0.05</td>\n",
              "    </tr>\n",
              "    <tr>\n",
              "      <th>362</th>\n",
              "      <td>3</td>\n",
              "      <td>399036.74</td>\n",
              "      <td>2147.29</td>\n",
              "      <td>1662.65</td>\n",
              "      <td>484.64</td>\n",
              "      <td>398552.10</td>\n",
              "      <td>30 Year</td>\n",
              "      <td>0.05</td>\n",
              "    </tr>\n",
              "    <tr>\n",
              "      <th>363</th>\n",
              "      <td>4</td>\n",
              "      <td>398552.10</td>\n",
              "      <td>2147.29</td>\n",
              "      <td>1660.63</td>\n",
              "      <td>486.66</td>\n",
              "      <td>398065.44</td>\n",
              "      <td>30 Year</td>\n",
              "      <td>0.05</td>\n",
              "    </tr>\n",
              "    <tr>\n",
              "      <th>364</th>\n",
              "      <td>5</td>\n",
              "      <td>398065.44</td>\n",
              "      <td>2147.29</td>\n",
              "      <td>1658.60</td>\n",
              "      <td>488.69</td>\n",
              "      <td>397576.75</td>\n",
              "      <td>30 Year</td>\n",
              "      <td>0.05</td>\n",
              "    </tr>\n",
              "    <tr>\n",
              "      <th>...</th>\n",
              "      <td>...</td>\n",
              "      <td>...</td>\n",
              "      <td>...</td>\n",
              "      <td>...</td>\n",
              "      <td>...</td>\n",
              "      <td>...</td>\n",
              "      <td>...</td>\n",
              "      <td>...</td>\n",
              "    </tr>\n",
              "    <tr>\n",
              "      <th>1075</th>\n",
              "      <td>176</td>\n",
              "      <td>15619.91</td>\n",
              "      <td>3163.17</td>\n",
              "      <td>65.08</td>\n",
              "      <td>3098.09</td>\n",
              "      <td>12521.82</td>\n",
              "      <td>15 Year</td>\n",
              "      <td>0.05</td>\n",
              "    </tr>\n",
              "    <tr>\n",
              "      <th>1076</th>\n",
              "      <td>177</td>\n",
              "      <td>12521.82</td>\n",
              "      <td>3163.17</td>\n",
              "      <td>52.17</td>\n",
              "      <td>3111.00</td>\n",
              "      <td>9410.82</td>\n",
              "      <td>15 Year</td>\n",
              "      <td>0.05</td>\n",
              "    </tr>\n",
              "    <tr>\n",
              "      <th>1077</th>\n",
              "      <td>178</td>\n",
              "      <td>9410.82</td>\n",
              "      <td>3163.17</td>\n",
              "      <td>39.21</td>\n",
              "      <td>3123.96</td>\n",
              "      <td>6286.86</td>\n",
              "      <td>15 Year</td>\n",
              "      <td>0.05</td>\n",
              "    </tr>\n",
              "    <tr>\n",
              "      <th>1078</th>\n",
              "      <td>179</td>\n",
              "      <td>6286.86</td>\n",
              "      <td>3163.17</td>\n",
              "      <td>26.19</td>\n",
              "      <td>3136.98</td>\n",
              "      <td>3149.88</td>\n",
              "      <td>15 Year</td>\n",
              "      <td>0.05</td>\n",
              "    </tr>\n",
              "    <tr>\n",
              "      <th>1079</th>\n",
              "      <td>180</td>\n",
              "      <td>3149.88</td>\n",
              "      <td>3163.17</td>\n",
              "      <td>13.12</td>\n",
              "      <td>3150.05</td>\n",
              "      <td>-0.17</td>\n",
              "      <td>15 Year</td>\n",
              "      <td>0.05</td>\n",
              "    </tr>\n",
              "  </tbody>\n",
              "</table>\n",
              "<p>540 rows × 8 columns</p>\n",
              "</div>"
            ],
            "text/plain": [
              "      Month  Starting Balance  ...  Mortgage Name  Interest Rate\n",
              "360       1         400000.00  ...        30 Year           0.05\n",
              "361       2         399519.37  ...        30 Year           0.05\n",
              "362       3         399036.74  ...        30 Year           0.05\n",
              "363       4         398552.10  ...        30 Year           0.05\n",
              "364       5         398065.44  ...        30 Year           0.05\n",
              "...     ...               ...  ...            ...            ...\n",
              "1075    176          15619.91  ...        15 Year           0.05\n",
              "1076    177          12521.82  ...        15 Year           0.05\n",
              "1077    178           9410.82  ...        15 Year           0.05\n",
              "1078    179           6286.86  ...        15 Year           0.05\n",
              "1079    180           3149.88  ...        15 Year           0.05\n",
              "\n",
              "[540 rows x 8 columns]"
            ]
          },
          "metadata": {},
          "execution_count": 65
        }
      ]
    },
    {
      "cell_type": "code",
      "metadata": {
        "colab": {
          "base_uri": "https://localhost:8080/",
          "height": 419
        },
        "id": "84eid-KN2LD5",
        "outputId": "6bf1270b-e0c5-46b1-99cc-cb82476161cc"
      },
      "source": [
        "new_df_five = df[(df['Mortgage Name'] == '30 Year') & (df['Interest Rate']==0.05)]\n",
        "new_df_five"
      ],
      "execution_count": 66,
      "outputs": [
        {
          "output_type": "execute_result",
          "data": {
            "text/html": [
              "<div>\n",
              "<style scoped>\n",
              "    .dataframe tbody tr th:only-of-type {\n",
              "        vertical-align: middle;\n",
              "    }\n",
              "\n",
              "    .dataframe tbody tr th {\n",
              "        vertical-align: top;\n",
              "    }\n",
              "\n",
              "    .dataframe thead th {\n",
              "        text-align: right;\n",
              "    }\n",
              "</style>\n",
              "<table border=\"1\" class=\"dataframe\">\n",
              "  <thead>\n",
              "    <tr style=\"text-align: right;\">\n",
              "      <th></th>\n",
              "      <th>Month</th>\n",
              "      <th>Starting Balance</th>\n",
              "      <th>Repayment</th>\n",
              "      <th>Interest Paid</th>\n",
              "      <th>Principal Paid</th>\n",
              "      <th>New Balance</th>\n",
              "      <th>Mortgage Name</th>\n",
              "      <th>Interest Rate</th>\n",
              "    </tr>\n",
              "  </thead>\n",
              "  <tbody>\n",
              "    <tr>\n",
              "      <th>360</th>\n",
              "      <td>1</td>\n",
              "      <td>400000.00</td>\n",
              "      <td>2147.29</td>\n",
              "      <td>1666.66</td>\n",
              "      <td>480.63</td>\n",
              "      <td>399519.37</td>\n",
              "      <td>30 Year</td>\n",
              "      <td>0.05</td>\n",
              "    </tr>\n",
              "    <tr>\n",
              "      <th>361</th>\n",
              "      <td>2</td>\n",
              "      <td>399519.37</td>\n",
              "      <td>2147.29</td>\n",
              "      <td>1664.66</td>\n",
              "      <td>482.63</td>\n",
              "      <td>399036.74</td>\n",
              "      <td>30 Year</td>\n",
              "      <td>0.05</td>\n",
              "    </tr>\n",
              "    <tr>\n",
              "      <th>362</th>\n",
              "      <td>3</td>\n",
              "      <td>399036.74</td>\n",
              "      <td>2147.29</td>\n",
              "      <td>1662.65</td>\n",
              "      <td>484.64</td>\n",
              "      <td>398552.10</td>\n",
              "      <td>30 Year</td>\n",
              "      <td>0.05</td>\n",
              "    </tr>\n",
              "    <tr>\n",
              "      <th>363</th>\n",
              "      <td>4</td>\n",
              "      <td>398552.10</td>\n",
              "      <td>2147.29</td>\n",
              "      <td>1660.63</td>\n",
              "      <td>486.66</td>\n",
              "      <td>398065.44</td>\n",
              "      <td>30 Year</td>\n",
              "      <td>0.05</td>\n",
              "    </tr>\n",
              "    <tr>\n",
              "      <th>364</th>\n",
              "      <td>5</td>\n",
              "      <td>398065.44</td>\n",
              "      <td>2147.29</td>\n",
              "      <td>1658.60</td>\n",
              "      <td>488.69</td>\n",
              "      <td>397576.75</td>\n",
              "      <td>30 Year</td>\n",
              "      <td>0.05</td>\n",
              "    </tr>\n",
              "    <tr>\n",
              "      <th>...</th>\n",
              "      <td>...</td>\n",
              "      <td>...</td>\n",
              "      <td>...</td>\n",
              "      <td>...</td>\n",
              "      <td>...</td>\n",
              "      <td>...</td>\n",
              "      <td>...</td>\n",
              "      <td>...</td>\n",
              "    </tr>\n",
              "    <tr>\n",
              "      <th>715</th>\n",
              "      <td>356</td>\n",
              "      <td>10596.54</td>\n",
              "      <td>2147.29</td>\n",
              "      <td>44.15</td>\n",
              "      <td>2103.14</td>\n",
              "      <td>8493.40</td>\n",
              "      <td>30 Year</td>\n",
              "      <td>0.05</td>\n",
              "    </tr>\n",
              "    <tr>\n",
              "      <th>716</th>\n",
              "      <td>357</td>\n",
              "      <td>8493.40</td>\n",
              "      <td>2147.29</td>\n",
              "      <td>35.38</td>\n",
              "      <td>2111.91</td>\n",
              "      <td>6381.49</td>\n",
              "      <td>30 Year</td>\n",
              "      <td>0.05</td>\n",
              "    </tr>\n",
              "    <tr>\n",
              "      <th>717</th>\n",
              "      <td>358</td>\n",
              "      <td>6381.49</td>\n",
              "      <td>2147.29</td>\n",
              "      <td>26.58</td>\n",
              "      <td>2120.71</td>\n",
              "      <td>4260.78</td>\n",
              "      <td>30 Year</td>\n",
              "      <td>0.05</td>\n",
              "    </tr>\n",
              "    <tr>\n",
              "      <th>718</th>\n",
              "      <td>359</td>\n",
              "      <td>4260.78</td>\n",
              "      <td>2147.29</td>\n",
              "      <td>17.75</td>\n",
              "      <td>2129.54</td>\n",
              "      <td>2131.24</td>\n",
              "      <td>30 Year</td>\n",
              "      <td>0.05</td>\n",
              "    </tr>\n",
              "    <tr>\n",
              "      <th>719</th>\n",
              "      <td>360</td>\n",
              "      <td>2131.24</td>\n",
              "      <td>2147.29</td>\n",
              "      <td>8.88</td>\n",
              "      <td>2138.41</td>\n",
              "      <td>-7.17</td>\n",
              "      <td>30 Year</td>\n",
              "      <td>0.05</td>\n",
              "    </tr>\n",
              "  </tbody>\n",
              "</table>\n",
              "<p>360 rows × 8 columns</p>\n",
              "</div>"
            ],
            "text/plain": [
              "     Month  Starting Balance  ...  Mortgage Name  Interest Rate\n",
              "360      1         400000.00  ...        30 Year           0.05\n",
              "361      2         399519.37  ...        30 Year           0.05\n",
              "362      3         399036.74  ...        30 Year           0.05\n",
              "363      4         398552.10  ...        30 Year           0.05\n",
              "364      5         398065.44  ...        30 Year           0.05\n",
              "..     ...               ...  ...            ...            ...\n",
              "715    356          10596.54  ...        30 Year           0.05\n",
              "716    357           8493.40  ...        30 Year           0.05\n",
              "717    358           6381.49  ...        30 Year           0.05\n",
              "718    359           4260.78  ...        30 Year           0.05\n",
              "719    360           2131.24  ...        30 Year           0.05\n",
              "\n",
              "[360 rows x 8 columns]"
            ]
          },
          "metadata": {},
          "execution_count": 66
        }
      ]
    },
    {
      "cell_type": "code",
      "metadata": {
        "colab": {
          "base_uri": "https://localhost:8080/"
        },
        "id": "1TK-s-eNT5bE",
        "outputId": "418f88e2-35e2-48ae-a554-1163be0ba9ae"
      },
      "source": [
        "#4.What are the first three values in the output for the cumulative sum of the 3% rate?\n",
        "#Answer 3%,6% and 9%\n",
        "three_percent['Interest Rate'].cumsum()"
      ],
      "execution_count": null,
      "outputs": [
        {
          "output_type": "execute_result",
          "data": {
            "text/plain": [
              "0       0.03\n",
              "1       0.06\n",
              "2       0.09\n",
              "3       0.12\n",
              "4       0.15\n",
              "       ...  \n",
              "895    16.08\n",
              "896    16.11\n",
              "897    16.14\n",
              "898    16.17\n",
              "899    16.20\n",
              "Name: Interest Rate, Length: 540, dtype: float64"
            ]
          },
          "metadata": {},
          "execution_count": 23
        }
      ]
    },
    {
      "cell_type": "code",
      "metadata": {
        "id": "ivGwM2WhEEGY"
      },
      "source": [
        "import matplotlib.patches as mpatches\n",
        "import matplotlib.pyplot as plt\n",
        "from matplotlib.legend_handler import HandlerLine2D"
      ],
      "execution_count": 96,
      "outputs": []
    },
    {
      "cell_type": "code",
      "metadata": {
        "colab": {
          "base_uri": "https://localhost:8080/",
          "height": 295
        },
        "id": "y3IkPIpx1Rj2",
        "outputId": "720d47dc-b5e7-48fc-d249-c4da743c121f"
      },
      "source": [
        "# Recreate the Graph \n",
        "\n",
        "# for the legend controls I searched \"stack over flow\"\n",
        "plt.plot(new_df['Month'],new_df['Interest Paid'].cumsum(),c='b', label='30 Year 3% APR')\n",
        "plt.plot(new_df_five['Month'],new_df_five['Interest Paid'].cumsum(),c='k', label ='30 Year 5% APR')\n",
        "\n",
        "plt.xlim([0,350])\n",
        "plt.ylim([50,400000])\n",
        "plt.legend(loc=\"lower right\")\n",
        "plt.yticks(size =15)\n",
        "plt.yticks(size =15)\n",
        "plt.xlabel ('Month')\n",
        "plt.ylabel ('Dollars')\n",
        "plt.title ('Comulative Interest Paid')\n",
        "plt.grid(axis = 'y')\n",
        "plt.grid(axis = 'x')\n",
        "plt.show()\n",
        "\n"
      ],
      "execution_count": 140,
      "outputs": [
        {
          "output_type": "display_data",
          "data": {
            "image/png": "[encoded data removed]",
            "text/plain": [
              "<Figure size 432x288 with 1 Axes>"
            ]
          },
          "metadata": {
            "needs_background": "light"
          }
        }
      ]
    },
    {
      "cell_type": "code",
      "metadata": {
        "id": "QigUsuzCGG52"
      },
      "source": [
        "|"
      ],
      "execution_count": null,
      "outputs": []
    }
  ]
}